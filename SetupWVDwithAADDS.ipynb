{
 "cells": [
  {
   "cell_type": "markdown",
   "id": "fd2111e3-a627-4f55-ae8f-26e018c8a182",
   "metadata": {},
   "source": [
    "<h1>Windows Virtual Desktop with Azure AD Domain Services</h1>"
   ]
  },
  {
   "cell_type": "markdown",
   "id": "7c05ab0a-550d-4d1c-adc3-a20c50d6ce7d",
   "metadata": {},
   "source": [
    "<h2>This document was created to guide someone to creating a Windows Virtual Desktop with an instance of Azure AD Domain Services.</h2>\n",
    "\n",
    "The Windows Virtual Desktop will be created with FSLogix for the user profiles.  Those profiles will be pointed to an Azure File Share on premium storage.\n"
   ]
  },
  {
   "cell_type": "markdown",
   "id": "97e7f0f1-a0de-46bd-902b-5daf22355836",
   "metadata": {},
   "source": [
    "<h3>Connect to Azure</h3>\n",
    "\n"
   ]
  },
  {
   "cell_type": "code",
   "execution_count": null,
   "id": "d16ffdc6-40b9-408a-9a26-621bdf01eb76",
   "metadata": {},
   "outputs": [],
   "source": [
    "# Connect to Azure\n",
    "if (get-module -list | where name -match \"az\"){\n",
    "    Write-Host \"The Az module is installed\"\n",
    "    Write-Host \"Connecting to Azure with the Az module\"\n",
    "    connect-azaccount\n",
    "} else {\n",
    "    Write-Host \"The Az module is NOT installed\"\n",
    "    Write-Host \"Installing Az module\"\n",
    "    Install-Module Az\n",
    "    Write-Host \"Importing AzureAD module\"\n",
    "    Import-Module Az\n",
    "    Write-Host \"Connecting to Azure with the Az module\"\n",
    "    connect-azaccount\n",
    "}\n"
   ]
  },
  {
   "cell_type": "markdown",
   "id": "00fbea60-5acb-4414-ae71-f62da17b3c9e",
   "metadata": {},
   "source": [
    "<h3>Create a Resource Group</h3>"
   ]
  },
  {
   "cell_type": "code",
   "execution_count": null,
   "id": "de316024-aad8-4306-96ab-3b54b73fabc0",
   "metadata": {},
   "outputs": [],
   "source": [
    "# Create a resource group\n",
    "$global:rgName = 'rg-coreinfrastructure'\n",
    "$global:region = 'eastus'\n",
    "try {\n",
    "    $rgExists = Get-AzResourceGroup -Name $rgName\n",
    "} finally {}\n",
    "\n",
    "if ($rgExists -ne $null){\n",
    "    Write-Host \"The resource group has already been created\"\n",
    "} else {\n",
    "    New-AzResourceGroup -Name $rgName -Location $region\n",
    "}\n"
   ]
  },
  {
   "cell_type": "markdown",
   "id": "cb2b9eb7-fdf5-4c01-84b9-4453fe973745",
   "metadata": {},
   "source": [
    "This infrastructure within this resource group will include...\n",
    "\n",
    "    - An Azure Active Directory Domain Services domain\n",
    "    - A virtual network\n",
    "    - A subnet for the AADDS and one for WVD\n",
    "    - A management VM for the WVD"
   ]
  },
  {
   "cell_type": "markdown",
   "id": "f15cad49-9d79-468c-bd27-a2feb1107d7b",
   "metadata": {},
   "source": [
    "<h3>Create the virtual network and subnets</h3>"
   ]
  },
  {
   "cell_type": "code",
   "execution_count": null,
   "id": "debaab62-a978-497e-a43b-dbe1ca70af58",
   "metadata": {},
   "outputs": [],
   "source": [
    "$global:vnetName = \"core-vnet\"\n",
    "\n",
    "# Create the dedicated subnet for Azure AD Domain Services.\n",
    "$global:subnetName = \"aadds-subnet\"\n",
    "$global:aaddsSubnet = New-AzVirtualNetworkSubnetConfig `\n",
    "  -Name $subnetName `\n",
    "  -AddressPrefix 10.0.100.0/24\n",
    "\n",
    "# Create an additional subnet for your own VM workloads\n",
    "$global:workloadSubnet = New-AzVirtualNetworkSubnetConfig `\n",
    "  -Name workloads-subnet `\n",
    "  -AddressPrefix 10.0.110.0/24\n",
    "  \n",
    "# Create an additional subnet for your own VM workloads\n",
    "$global:WVDSubnet = New-AzVirtualNetworkSubnetConfig `\n",
    "  -Name wvd-subnet `\n",
    "  -AddressPrefix 10.0.120.0/24\n",
    "\n",
    "# Create the virtual network in which you will enable Azure AD Domain Services.\n",
    "$vnetExists = Get-AzVirtualNetwork -Name $vnetName\n",
    "if ($vnetExists -ne $null){\n",
    "    Write-Host \"The virtual network already exists.\"\n",
    "} else {\n",
    "    $vnet = New-AzVirtualNetwork -ResourceGroupName $rgName -Location $region -Name $vnetName -AddressPrefix 10.0.0.0/16 -Subnet $aaddsSubnet,$workloadSubnet,$WVDSubnet\n",
    "}"
   ]
  },
  {
   "cell_type": "markdown",
   "id": "c22a3280-605d-4b1e-bb3e-4464dd97f30d",
   "metadata": {},
   "source": [
    "<h3>Create the AADDS into the Resource Group</h3> \n",
    "\n",
    "We will create a service principal account and then add it to the AAD DC Administrators group.\n",
    "We will then register the Azure AD Domain Services resource provider."
   ]
  },
  {
   "cell_type": "markdown",
   "id": "4cd77d71-065b-4e63-8e0d-ea335fda181a",
   "metadata": {},
   "source": [
    "<h4>Add the Posh Test Gallery Repository</h4>"
   ]
  },
  {
   "cell_type": "markdown",
   "id": "d95362ce-3952-4b02-88e1-cceae1b09056",
   "metadata": {},
   "source": [
    "This is so that you can use the AzureAD module on Powershell Core.  It is not supported in the current version for Powershell"
   ]
  },
  {
   "cell_type": "code",
   "execution_count": null,
   "id": "66084e28-91e2-428f-99b3-668d52b4520d",
   "metadata": {},
   "outputs": [],
   "source": [
    "Write-Host \"Adding the Posh Test Gallery for the AzureAD that can be used with Powershell Core\"\n",
    "$packageSource = Get-PackageSource -Name 'Posh Test Gallery'\n",
    "\n",
    "if (!$packageSource)\n",
    "{\n",
    "\t$packageSource = Register-PackageSource -Trusted -ProviderName 'PowerShellGet' -Name 'Posh Test Gallery' -Location 'https://www.poshtestgallery.com/api/v2/'\n",
    "}"
   ]
  },
  {
   "cell_type": "markdown",
   "id": "77f1349f-a5b0-48d9-b0a5-ec4852929f71",
   "metadata": {},
   "source": [
    "<h4>Import the AzureAD Module and Connect</h4>"
   ]
  },
  {
   "cell_type": "code",
   "execution_count": null,
   "id": "b12255ae-dd5a-46d2-bcf0-d21ae0c6a48c",
   "metadata": {},
   "outputs": [],
   "source": [
    "# Check if module is installed\n",
    "$module = Get-Module 'AzureAD.Standard.Preview' -ListAvailable -ErrorAction SilentlyContinue\n",
    "\n",
    "if (!$module) \n",
    "{\n",
    "  Write-Host \"Installing module AzureAD.Standard.Preview ...\"\n",
    "  $module = Install-Module -Name 'AzureAD.Standard.Preview' -Force -Scope CurrentUser -SkipPublisherCheck -AllowClobber \n",
    "  Write-Host \"Module installed\"\n",
    "}\n",
    "\n",
    "# Module doesn't automatically load after install - need to import explictly for Pwsh Core\n",
    "Import-Module -Name $module.RootModule\n",
    "\n",
    "$id = (Get-AZTenant).id\n",
    "Connect-AzureAD -tenantid $id"
   ]
  },
  {
   "cell_type": "markdown",
   "id": "d4f1bf03-7461-429e-a522-d71649a7e844",
   "metadata": {},
   "source": [
    "<h3>Create the New Service Principal and AAD DC Administrators Group</h3>"
   ]
  },
  {
   "cell_type": "code",
   "execution_count": null,
   "id": "634f0ff6-da46-49ab-b764-cea6855b3863",
   "metadata": {},
   "outputs": [],
   "source": [
    "# Create the service principal for Azure AD Domain Services\n",
    "try {\n",
    "    Write-Host \"Creating service principal for Azure AD DS\"\n",
    "    New-AzureADServicePrincipal -AppId \"2565bd9d-da50-47d4-8b85-4c97f669dc36\"\n",
    "} finally {}\n",
    "\n",
    "# First, retrieve the object ID of the 'AAD DC Administrators' group.\n",
    "$GroupObjectId = Get-AzureADGroup -Filter \"DisplayName eq 'AAD DC Administrators'\" | Select-Object ObjectId\n",
    "\n",
    "# If the group doesn't exist, create it\n",
    "if (!$GroupObjectId) {\n",
    "    Write-Host \"Creating AAD DC Administrators group\"\n",
    "    $GroupObjectId = New-AzureADGroup -DisplayName \"AAD DC Administrators\" `\n",
    "    -Description \"Delegated group to administer Azure AD Domain Services\" `\n",
    "    -SecurityEnabled $true `\n",
    "    -MailEnabled $false `\n",
    "    -MailNickName \"AADDCAdministrators\"\n",
    "  }\n",
    "else {\n",
    "  Write-Output \"Admin group already exists.\"\n",
    "}\n",
    "\n",
    "# Retrieve the object ID of the user you'd like to add to the group.\n",
    "$UserObjectId = Get-AzureADUser `\n",
    "  -Filter \"UserPrincipalName eq 'cmccray@mccrayprojects.com'\" | Select-Object ObjectId\n",
    "\n",
    "# Add the user to the 'AAD DC Administrators' group.\n",
    "$members = Get-AzADGroup -ObjectId $groupobjectid.objectid | get-azadgroupmember\n",
    "\n",
    "if($members -eq $null){\n",
    "    Write-Host \"Add user to the AAD DC Administrators group\"\n",
    "    Get-AzADGroup -ObjectId $groupobjectid.objectid | Add-AzADGroupMember -memberobjectid $userobjectid.objectid\n",
    "} else {\n",
    "    Write-Host \"User is in group\"\n",
    "}\n",
    "\n",
    "# Retrieve the object ID of the 'WVD Users' group.\n",
    "$global:WVDGroupObjectId = Get-AzureADGroup -Filter \"DisplayName eq 'WVD_Users'\" | Select-Object ObjectId\n",
    "\n",
    "# If the group doesn't exist, create it\n",
    "if (!$WVDGroupObjectId) {\n",
    "    Write-Host \"Creating WVD_Users group\"\n",
    "    $WVDGroupObjectId = New-AzureADGroup -DisplayName \"WVD_Users\" `\n",
    "    -Description \"Delegated group to add users to WVD\" `\n",
    "    -SecurityEnabled $true `\n",
    "    -MailEnabled $false `\n",
    "    -MailNickName \"WVD_Users\"\n",
    "  }\n",
    "else {\n",
    "  Write-Output \"WVD_Users group already exists.\"\n",
    "}\n",
    "\n",
    "# First, register the Azure AD Domain Services resource provider\n",
    "Write-Host \"Register Microsoft.AD provider\"\n",
    "Register-AzResourceProvider -ProviderNamespace Microsoft.AAD\n",
    "\n"
   ]
  },
  {
   "cell_type": "markdown",
   "id": "a4f61770-e7b0-4edd-8720-1b4f8cf072ad",
   "metadata": {},
   "source": [
    "<h3>Create the NSG for Azure AD Domain Services</h3>"
   ]
  },
  {
   "cell_type": "code",
   "execution_count": null,
   "id": "48133f3b-4f0e-415f-8324-488735aec32c",
   "metadata": {},
   "outputs": [],
   "source": [
    "$NSGName = \"aaddsNSG\"\n",
    "\n",
    "# Create a rule to allow TCP port 5986 traffic for PowerShell remote management\n",
    "$nsg301 = New-AzNetworkSecurityRuleConfig -Name AllowPSRemoting `\n",
    "    -Access Allow `\n",
    "    -Protocol Tcp `\n",
    "    -Direction Inbound `\n",
    "    -Priority 301 `\n",
    "    -SourceAddressPrefix AzureActiveDirectoryDomainServices `\n",
    "    -SourcePortRange * `\n",
    "    -DestinationAddressPrefix * `\n",
    "    -DestinationPortRange 5986\n",
    "\n",
    "# Create the network security group and rules\n",
    "$nsg = New-AzNetworkSecurityGroup -Name $NSGName `\n",
    "    -ResourceGroupName $rgName `\n",
    "    -Location $region `\n",
    "    -SecurityRules $nsg301\n",
    "\n",
    "# Get the existing virtual network resource objects and information\n",
    "Write-Host \"Getting virtual network\"\n",
    "$vnet = Get-AzVirtualNetwork -Name $vnetName -ResourceGroupName $rgName\n",
    "Write-Host \"Getting subnet\"\n",
    "$subnet = Get-AzVirtualNetworkSubnetConfig -VirtualNetwork $vnet -Name $subnetName\n",
    "$addressPrefix = $subnet.AddressPrefix\n",
    "\n",
    "# Associate the network security group with the virtual network subnet\n",
    "Write-Host \"Associating NSG with subnet\"\n",
    "Set-AzVirtualNetworkSubnetConfig -Name $subnetName -VirtualNetwork $vnet -AddressPrefix $addressPrefix -NetworkSecurityGroup $nsg\n",
    "$vnet | Set-AzVirtualNetwork"
   ]
  },
  {
   "cell_type": "markdown",
   "id": "97e72086-2664-4d67-9d8a-8876521585db",
   "metadata": {},
   "source": [
    "<h3>Create the Managed Domain</h3\n",
    "    "
   ]
  },
  {
   "cell_type": "code",
   "execution_count": null,
   "id": "7430a48b-0c59-4fdb-9de0-6583a58f92d8",
   "metadata": {},
   "outputs": [],
   "source": [
    "$dsModule = Get-Module -Name Az.ADDomainServices\n",
    "if ($dsModule -eq $nnull){\n",
    "    Write-Host \"Installing AD Domain Services module\"\n",
    "    Install-Module -Name Az.ADDomainServices -repository psgallery -force\n",
    "} else {\n",
    "    Write-Host \"AD Domain Services module is installed\"\n",
    "}\n",
    "\n",
    "$AzureSubscriptionId = (Get-AzContext).Subscription.id\n",
    "$global:ManagedDomainName = \"mccrayprojects.com\"\n",
    "\n",
    "if (Get-AzADDomainService -Name $ManagedDomainName -ResourceGroupName $rgName){\n",
    " Write-Host \"$ManagedDomainName already has been created\"\n",
    "} else {\n",
    "    # Enable Azure AD Domain Services for the directory.\n",
    "    $replicaSet = New-AzADDomainServiceReplicaSet -Location $region -SubnetId \"/subscriptions/$AzureSubscriptionId/resourceGroups/$rgName/providers/Microsoft.Network/virtualNetworks/$vnetName/subnets/aadds-subnet\"\n",
    "\n",
    "    Write-Host \"Creating new Azure AD Domain Services domain called $ManagedDomainName\"\n",
    "    Write-Host \" \"\n",
    "    Write-Host \"!!!!!  This process could take over 1 hour!  Please wait for the next line before continuing  !!!!!\"\n",
    "    New-AzADDomainService -Name $ManagedDomainName -ResourceGroupName $rgName -DomainName $ManagedDomainName -ReplicaSet $replicaSet\n",
    "    Write-Host \"Your AD Domain Services Domain should be complete.\"\n",
    "}"
   ]
  },
  {
   "attachments": {
    "b97d821a-75f4-4a0f-a6ae-e342e9244c4e.png": {
     "image/png": "[encoded data removed]"
    }
   },
   "cell_type": "markdown",
   "id": "a478d1fa-5dba-4d35-b545-5a8988d03c6e",
   "metadata": {},
   "source": [
    "\n",
    "\n",
    "\n",
    "<h2>Go to the Azure Portal and verify that the domain is running</h2>\n",
    "\n",
    "This could take a few hours\n",
    "\n",
    "![image.png](attachment:b97d821a-75f4-4a0f-a6ae-e342e9244c4e.png)\n",
    "\n"
   ]
  },
  {
   "cell_type": "markdown",
   "id": "e001adf6-87cb-46de-ae2b-510288b84299",
   "metadata": {},
   "source": [
    "Add the IPs of the 2 AADDS domain controllers to the DNS of the VNET\n"
   ]
  },
  {
   "cell_type": "code",
   "execution_count": null,
   "id": "9135e4e4-4bb4-4399-9c71-7f4815d509a6",
   "metadata": {
    "tags": []
   },
   "outputs": [],
   "source": [
    "Write-Host \"Get the IPs of the domain controllers\"\n",
    "$dcIPs = (((Get-AzVirtualNetwork -Name $VNET.Name -ResourceGroupName $VNET.ResourceGroupName -ExpandResource 'subnets/ipConfigurations').subnets | where name -match \"aadds-subnet\").ipconfigurations).privateipaddress\n",
    "\n",
    "Write-Host \"Add the IPs to the custom DNS of the virtual network\"\n",
    "\n",
    "$object = new-object -type PSObject -Property @{\"DnsServers\" = $dcIPs}\n",
    "$vnet.DhcpOptions = $object\n",
    "$vnet | set-azvirtualnetwork\n"
   ]
  },
  {
   "cell_type": "markdown",
   "id": "e683bae4-42dc-4ad8-a498-523d3b775f5b",
   "metadata": {},
   "source": [
    "Create a new virtual machine to configure Group Policy\n",
    "Utilize the CIS Benchmark 2019 L1 image for security - image name is cis-windows-server-2019-v1-0-0-l1\n",
    "Add the features for AD DS and Group Policy Management"
   ]
  },
  {
   "cell_type": "code",
   "execution_count": null,
   "id": "41f2d3f7-21ce-4578-9dd7-dfd726227870",
   "metadata": {},
   "outputs": [],
   "source": [
    "$global:vmName = 'aadds-mgmt-01'\n",
    "$nicName = \"aadds-mgmt-nic\"\n",
    "\n",
    "if (Get-AzVM -Name $vmName){\n",
    "    Write-Host \"The management VM has already been created\"\n",
    "} else {\n",
    "    Write-Host \"Getting credentials for the new VM\"\n",
    "    $cred = Get-Credential -Message \"Enter a username and password for the virtual machine.\"\n",
    "\n",
    "    Write-Host \"Create the new NIC\"\n",
    "    if(get-AzNetworkInterface -Name $nicName){\n",
    "        Write-Host \"Nic is already created\"\n",
    "    }else{\n",
    "        Write-Host \"Creating a new NIC\"\n",
    "        $vnet = Get-AzVirtualNetwork\n",
    "        $subnetID = ($vnet.subnets | where name -match 'aadds-subnet').id\n",
    "        $nic = New-AzNetworkInterface -Name $nicName -ResourceGroupName $rgName -Location $region -SubnetId $subnetID\n",
    "    }\n",
    "    Write-Host \"Create the new VM config\"\n",
    "    $VirtualMachine = New-AzVMConfig -VMName $vmName -VMSize 'Standard_D2s_v3'\n",
    "    $VirtualMachine = Set-AzVMOperatingSystem -VM $VirtualMachine -Windows -ComputerName $vmName -Credential $Cred -ProvisionVMAgent -EnableAutoUpdate\n",
    "    $VirtualMachine = Add-AzVMNetworkInterface -VM $VirtualMachine -Id $nic.Id\n",
    "    $VirtualMachine = Set-AzVMSourceImage -VM $VirtualMachine -PublisherName 'MicrosoftWindowsServer' -Offer 'WindowsServer' -Skus '2019-Datacenter' -Version latest\n",
    "    write-host \"Creating the VM $vmName\"\n",
    "    New-AzVM -ResourceGroupName $rgName -Location $region -VM $VirtualMachine -Verbose\n",
    "    Write-Host \"The AADDS management VM has been created\"\n",
    "}"
   ]
  },
  {
   "cell_type": "markdown",
   "id": "27035de4-e2c1-490b-aa4b-b5879dccdb62",
   "metadata": {},
   "source": [
    "Create an Azure File Shares as premium storage\n",
    "Add the Profiles share and the Redirections share\n",
    "Add the redirections.xml to the Redirections share\n",
    "Give permission to the domain on the shares"
   ]
  },
  {
   "cell_type": "code",
   "execution_count": null,
   "id": "ff4c7ca4-9b41-40a7-bcdd-e17ead089af5",
   "metadata": {},
   "outputs": [],
   "source": [
    "$domain = $ManagedDomainName.split(\".\")[0]\n",
    "    $stAcctName = (\"wvdstor\" + $domain).toLower()\n",
    "    if ($stAcctName.length -ge 24){\n",
    "        Write-Host \"reducing the name to the first 24 characters\"\n",
    "        $stAcctName = $stAcctName.subString(0,24)\n",
    "    }\n",
    "\n",
    "    Write-Host \"Removing Special Characters\"\n",
    "    $stAcctName -replace \"[^a-zA-Z0-9]\"\n",
    "\n",
    "if (Get-AzStorageAccount -Name $stAcctName -ResourceGroupName $rgName){\n",
    "    Write-Host \"Storage account $stAcctName is already created\"\n",
    "} else {\n",
    "    Write-Host \"Creating new storage account with name of $stAcctName\"\n",
    "    $global:storAcct = New-AzStorageAccount -ResourceGroupName $rgName -Name $stAcctName -SkuName Premium_LRS -Location $region -Kind FileStorage \n",
    "}\n",
    "\n",
    "$profileShare = \"profiles\"\n",
    "$redirectShares = \"redirections\"\n",
    "\n",
    "if (Get-AzRmStorageShare -ResourceGroupName $rgName -StorageAccountName $stAcctName | Where name -match \"Profiles\"){\n",
    " Write-Host \"Profiles share is already created\"\n",
    "} else {\n",
    "    Write-Host \"Creating the profiles share\"\n",
    "    $global:pshare = New-AzRmStorageShare -ResourceGroupName $rgName -StorageAccountName $stAcctName -Name $profileShare -QuotaGiB 100 | Out-Null\n",
    "}\n",
    "\n",
    "if (Get-AzRmStorageShare -ResourceGroupName $rgName -StorageAccountName $stAcctName | Where name -match \"Redirections\"){\n",
    " Write-Host \"Redirections share is already created\"\n",
    "} else {\n",
    "    Write-Host \"Creating the redirections share\"\n",
    "    $rshare = New-AzRmStorageShare -ResourceGroupName $rgName -StorageAccountName $stAcctName -Name $redirectShares -QuotaGiB 100 | Out-Null\n",
    "}\n"
   ]
  },
  {
   "cell_type": "markdown",
   "id": "96705320-b309-4022-814b-9a420f8dd3d4",
   "metadata": {},
   "source": [
    "Enable AADDS management of the storage account and give File Share Contributor Role to the Profiles share to the WVD_Users group"
   ]
  },
  {
   "cell_type": "code",
   "execution_count": null,
   "id": "b53ec987-ecf7-441a-aed6-3016f3285f19",
   "metadata": {},
   "outputs": [],
   "source": [
    "\n",
    "Write-Host \"Enable AADDS on storage\"\n",
    "Set-AzStorageAccount -ResourceGroupName $rgName -Name $stAcctName -EnableAzureActiveDirectoryDomainServicesForFile $true\n",
    "\n",
    "Write-Host \"Give permissions to the Profiles file share to the WVD_Users group\"\n",
    "#Get the name of the custom role\n",
    "$FileShareContributorRole = Get-AzRoleDefinition \"Storage File Data SMB Share Contributor\"\n",
    "#Constrain the scope to the target file share\n",
    "$scope = (Get-AzRmStorageShare -ResourceGroupName $rgName -StorageAccountName $stAcctName | Where name -match \"Profiles\").id\n",
    "#Assign the custom role to the target identity with the specified scope.\n",
    "$groupid = (get-azadgroup -DisplayName 'wvd_users').id\n",
    "New-AzRoleAssignment -ObjectID $groupid  -RoleDefinitionName $FileShareContributorRole.Name -Scope $scope"
   ]
  },
  {
   "cell_type": "markdown",
   "id": "96f18934-366a-487d-bee0-a280f4221872",
   "metadata": {},
   "source": [
    "Create the Redirections.xml file for FSLogix and place it in the Redirections share on Azure Files"
   ]
  },
  {
   "cell_type": "code",
   "execution_count": null,
   "id": "ec211fb5-5184-4990-ac30-9b8611486686",
   "metadata": {},
   "outputs": [],
   "source": [
    "Write-Host \"Creating the redirections file\"\n",
    "\n",
    "$redirections = @\"\n",
    "<?xml version=\"1.0\" encoding=\"UTF-8\"?>\n",
    "<FrxProfileFolderRedirection>\n",
    "\t<Excludes>\n",
    "\t\t<Exclude>Desktop</Exclude>\n",
    "\t\t<Exclude>Documents</Exclude>\n",
    "\t\t<Exclude>Favorites</Exclude>\n",
    "\t</Excludes>\n",
    "</FrxProfileFolderRedirection>\n",
    "\n",
    "\"@\n",
    "\n",
    "$redirections | out-file c:\\temp\\Redirections.xml\n",
    "Write-Host \"Getting the storage share for redirections\"\n",
    "$rshare = (Get-AzRmStorageShare -ResourceGroupName $rgName -StorageAccountName $stAcctName | Where name -match \"Redirections\").name\n",
    "Write-Host \"Uploadinng the redirections file to the share\"\n",
    "$RedirFile = Set-AzStorageFileContent -Context $storAcct.Context -ShareName $rshare -Source \"c:\\temp\\Redirections.xml\" -Path \"Redirections.xml\""
   ]
  },
  {
   "cell_type": "markdown",
   "id": "58ce8b9e-261f-4a5f-9818-e60b63dce218",
   "metadata": {},
   "source": [
    "Create temporary storage account for custom scripts"
   ]
  },
  {
   "cell_type": "code",
   "execution_count": null,
   "id": "8a587efb-d802-4775-ba8f-152f088d207d",
   "metadata": {},
   "outputs": [],
   "source": [
    "$domain = $ManagedDomainName.split(\".\")[0]\n",
    "    $cseAcctName = (\"cseStor\" + $domain).toLower()\n",
    "    if ($cseAcctName.length -ge 24){\n",
    "        Write-Host \"reducing the name to the first 24 characters\"\n",
    "        $cseAcctName = $cseAcctName.subString(0,24)\n",
    "    }\n",
    "\n",
    "    Write-Host \"Removing Special Characters\"\n",
    "    $global:cseAcctName -replace \"[^a-zA-Z0-9]\"\n",
    "\n",
    "if (Get-AzStorageAccount -Name $cseAcctName -ResourceGroupName $rgName){\n",
    "    Write-Host \"Storage account $cseAcctName is already created\"\n",
    "} else {\n",
    "    Write-Host \"Creating new storage account with name of $cseAcctName\"\n",
    "    $global:cseStorAcct = New-AzStorageAccount -ResourceGroupName $rgName -Name $cseAcctName -SkuName Standard_LRS -Location $region -Kind StorageV2  \n",
    "}\n",
    "\n",
    "\n",
    "if (Get-AzStorageContainer -Name 'csecontainer'){\n",
    "    Write-Host \"The container already exists\"\n",
    "} else {\n",
    "    Write-Host \"Creating the container\"\n",
    "    Set-AzCurrentStorageAccount -ResourceGroupName $rgName -Name $cseAcctName\n",
    "    New-AzStorageContainer -Name 'csecontainer'\n",
    "}\n",
    "\n",
    "$domainCred = Get-Credential\n",
    "\n",
    "if (test-path c:\\temp\\domainJoin.ps1){\n",
    "    Write-Host \"The domain join script is already created\"\n",
    "} else {\n",
    "    Write-Host \"Create the domain join script\"\n",
    "    $joinDomain = @\"\n",
    "    Add-Computer -DomainName $ManagedDomainName -credential $domainCred -Restart\n",
    "\"@\n",
    "    $joinDomain | out-file c:\\temp\\domainJoin.ps1\n",
    "}\n",
    "\n",
    "Write-Host \"Upload script to container\"\n",
    "Set-AzStorageBlobContent -Container \"csecontainer\" -File \"c:\\temp\\domainJoin.ps1\" -Blob \"domainJoin.ps1\""
   ]
  },
  {
   "cell_type": "markdown",
   "id": "458c136a-5cc7-40a2-93e8-3742167f84f6",
   "metadata": {},
   "source": [
    "Add the domain join custom script to the extension of the VM"
   ]
  },
  {
   "cell_type": "code",
   "execution_count": null,
   "id": "1123c485-2160-47cc-bd2c-4c22404d9c12",
   "metadata": {},
   "outputs": [],
   "source": [
    "\n",
    "# Get the VM we need to configure\n",
    "$vm = Get-AzVM -ResourceGroupName $rgName -Name $VMName\n",
    "# Get storage account key\n",
    "$key = (Get-AzStorageAccountKey -Name $cseAcctName -ResourceGroupName $rgName)[0].Value\n",
    "## Enable the custom script extension and run the script\n",
    "Write-Host \"Adding Custom Script Extension to VM\"\n",
    "Set-AzVMCustomScriptExtension -ResourceGroupName $rgName -VMName $VMName -Name domainJoin.ps1 -Location $vm.Location -StorageAccountName $cseAcctName -StorageAccountKey $key -FileName domainJoin.ps1 -ContainerNam 'csecontainer' -Run domainJoin.ps1"
   ]
  },
  {
   "cell_type": "markdown",
   "id": "0db8865b-f06e-4108-99f5-b386c5c999f8",
   "metadata": {},
   "source": [
    "Add the AADDS Management virtual machine to the domain"
   ]
  },
  {
   "cell_type": "code",
   "execution_count": null,
   "id": "97268c4f-4dc5-450b-b74e-9245df190a70",
   "metadata": {},
   "outputs": [],
   "source": [
    "$domaincred = Get-Credential\n",
    "Write-Host \"Adding the AADDS management VM to the AADDS domain\"\n",
    "Set-AzVMADDomainExtension -DomainName $ManagedDomainName -ResourceGroupName $rgName -VMName $vmName -Credential $domaincred -JoinOption '0x00000003' -Restart -Verbose\n",
    "Write-Host \"The virtual machine has been added to the domain and is restarting\""
   ]
  },
  {
   "cell_type": "raw",
   "id": "4e42f081-8a10-4e86-8ce6-aace32669245",
   "metadata": {},
   "source": [
    "Download the FSLogix ADMX files\n",
    "Download the OneDrive ADMX Files\n",
    "Add the FSLogix and OneDrive admx to the domain\n",
    "Configure FSLogix and OneDrive\n",
    "Download FSLogix\n",
    "Set Group Policy to install FSLogix"
   ]
  },
  {
   "cell_type": "markdown",
   "id": "dce7070b-8122-479b-a258-81d6d603cc04",
   "metadata": {},
   "source": [
    "Create your WVD"
   ]
  },
  {
   "cell_type": "markdown",
   "id": "14284dea-7754-4d1b-93f1-d0fa630f0b4e",
   "metadata": {},
   "source": [
    "Test"
   ]
  }
 ],
 "metadata": {
  "kernelspec": {
   "display_name": ".NET (PowerShell)",
   "language": "PowerShell",
   "name": ".net-powershell"
  },
  "language_info": {
   "file_extension": ".ps1",
   "mimetype": "text/x-powershell",
   "name": "PowerShell",
   "pygments_lexer": "powershell",
   "version": "7.0"
  }
 },
 "nbformat": 4,
 "nbformat_minor": 5
}
